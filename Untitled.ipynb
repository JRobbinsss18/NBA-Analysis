{
 "cells": [
  {
   "cell_type": "code",
   "execution_count": 2,
   "id": "5b4243a1-52c6-4530-a38b-38e3feba2bc7",
   "metadata": {},
   "outputs": [],
   "source": [
    "from nba_api.stats.endpoints import leaguegamelog\n",
    "import pandas as pd"
   ]
  },
  {
   "cell_type": "code",
   "execution_count": 3,
   "id": "cb063444-30cd-4d8b-a8bb-5025ec95b7bd",
   "metadata": {},
   "outputs": [],
   "source": [
    "def get_g_league_player_stats(season: str = '2024-25'):\n",
    "    try:\n",
    "        g_league_data = leaguegamelog.LeagueGameLog(league_id='20', season=season).get_data_frames()[0]\n",
    "\n",
    "        # Group by Player and calculate averages and games played\n",
    "        player_stats = g_league_data.groupby('PLAYER_NAME').agg(\n",
    "            {\n",
    "                'PTS': 'mean',       # Average points per game\n",
    "                'REB': 'mean',       # Average rebounds per game\n",
    "                'AST': 'mean',       # Average assists per game\n",
    "                'BLK': 'mean',       # Average blocks per game\n",
    "                'STL': 'mean',       # Average steals per game\n",
    "                'FG_PCT': 'mean',    # Field goal percentage\n",
    "                'FT_PCT': 'mean',    # Free throw percentage\n",
    "                'GP': 'count'        # Total games played\n",
    "            }\n",
    "        ).reset_index()\n",
    "\n",
    "        # Rename columns for clarity\n",
    "        player_stats.rename(columns={'GP': 'GAMES_PLAYED'}, inplace=True)\n",
    "\n",
    "        return player_stats\n",
    "\n",
    "    except Exception as e:\n",
    "        print(f\"An error occurred while fetching G-League stats: {str(e)}\")\n",
    "        return pd.DataFrame()"
   ]
  },
  {
   "cell_type": "code",
   "execution_count": 4,
   "id": "89099535-2ac8-4ca8-a80f-542a5a9657a3",
   "metadata": {},
   "outputs": [
    {
     "name": "stdout",
     "output_type": "stream",
     "text": [
      "An error occurred while fetching G-League stats: 'PLAYER_NAME'\n",
      "Empty DataFrame\n",
      "Columns: []\n",
      "Index: []\n"
     ]
    }
   ],
   "source": [
    "g_league_stats = get_g_league_player_stats()\n",
    "print(g_league_stats.head())\n"
   ]
  },
  {
   "cell_type": "code",
   "execution_count": null,
   "id": "251fd50a-4a5a-4bcd-8a6d-7f3fb7fc26ec",
   "metadata": {},
   "outputs": [],
   "source": []
  }
 ],
 "metadata": {
  "kernelspec": {
   "display_name": "Python 3 (ipykernel)",
   "language": "python",
   "name": "python3"
  },
  "language_info": {
   "codemirror_mode": {
    "name": "ipython",
    "version": 3
   },
   "file_extension": ".py",
   "mimetype": "text/x-python",
   "name": "python",
   "nbconvert_exporter": "python",
   "pygments_lexer": "ipython3",
   "version": "3.10.12"
  }
 },
 "nbformat": 4,
 "nbformat_minor": 5
}
